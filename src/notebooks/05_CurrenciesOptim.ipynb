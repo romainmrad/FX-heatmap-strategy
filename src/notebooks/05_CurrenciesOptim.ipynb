{
 "cells": [
  {
   "cell_type": "code",
   "execution_count": 21,
   "id": "9dcc65fb",
   "metadata": {},
   "outputs": [
    {
     "name": "stderr",
     "output_type": "stream",
     "text": [
      "/var/folders/sx/9mnbjp0s38q6c18pfnj9ybs40000gn/T/ipykernel_26986/1896519675.py:12: FutureWarning: YF.download() has changed argument auto_adjust default to True\n",
      "  data = yf.download(currency_pairs, start='2015-01-01', end='2023-01-01')['Close']\n",
      "[*********************100%***********************]  10 of 10 completed\n"
     ]
    },
    {
     "name": "stdout",
     "output_type": "stream",
     "text": [
      "              AUDUSD    BRLUSD    CADUSD    CHFUSD    CNYUSD    EURUSD  \\\n",
      "Date                                                                     \n",
      "2015-01-02  0.000817  0.000377  0.000052  0.000010  0.000000 -0.000762   \n",
      "2015-01-05 -0.013565 -0.014221 -0.015295 -0.011701  0.000000 -0.011897   \n",
      "2015-01-06  0.003961 -0.004412  0.003057 -0.000398 -0.001983 -0.000621   \n",
      "2015-01-07 -0.002427  0.002408 -0.006781 -0.005056  0.001031 -0.005346   \n",
      "2015-01-08 -0.000565  0.005876  0.001564 -0.003396 -0.000322 -0.003320   \n",
      "\n",
      "              GBPUSD    INRUSD    JPYUSD    ZARUSD  \n",
      "Date                                                \n",
      "2015-01-02 -0.000078  0.000000 -0.001645 -0.008990  \n",
      "2015-01-05 -0.019104 -0.003959 -0.004694 -0.014974  \n",
      "2015-01-06 -0.001741 -0.000948  0.008413  0.002767  \n",
      "2015-01-07 -0.007918 -0.003625  0.006317 -0.002110  \n",
      "2015-01-08 -0.002011  0.004651 -0.005177  0.002777  \n"
     ]
    }
   ],
   "source": [
    "import yfinance as yf\n",
    "import pandas as pd\n",
    "import numpy as np\n",
    "\n",
    "# Define currency pairs\n",
    "currency_pairs = [\n",
    "    'EURUSD=X', 'JPYUSD=X', 'GBPUSD=X', 'AUDUSD=X', 'CADUSD=X',\n",
    "    'CHFUSD=X', 'CNYUSD=X', 'INRUSD=X', 'BRLUSD=X', 'ZARUSD=X'\n",
    "]\n",
    "\n",
    "# Download data\n",
    "data = yf.download(currency_pairs, start='2015-01-01', end='2023-01-01')['Close']\n",
    "\n",
    "# Rename columns (remove '=X' for clarity)\n",
    "data.columns = [col.replace('=X', '') for col in data.columns]\n",
    "\n",
    "# Compute log returns\n",
    "returns = np.log(data / data.shift(1)).dropna()\n",
    "\n",
    "# Show first few rows\n",
    "print(returns.head())\n"
   ]
  },
  {
   "cell_type": "code",
   "execution_count": 22,
   "id": "94650893",
   "metadata": {},
   "outputs": [
    {
     "name": "stdout",
     "output_type": "stream",
     "text": [
      "Mean Return Vector (μ):\n",
      "AUDUSD   -0.000089\n",
      "BRLUSD   -0.000325\n",
      "CADUSD   -0.000073\n",
      "CHFUSD    0.000038\n",
      "CNYUSD   -0.000056\n",
      "EURUSD   -0.000059\n",
      "GBPUSD   -0.000121\n",
      "INRUSD   -0.000129\n",
      "JPYUSD   -0.000049\n",
      "ZARUSD   -0.000186\n",
      "dtype: float64\n",
      "\n",
      "Covariance Matrix (Σ):\n",
      "          AUDUSD    BRLUSD    CADUSD    CHFUSD    CNYUSD    EURUSD    GBPUSD  \\\n",
      "AUDUSD  0.000042  0.000026  0.000021  0.000014  0.000006  0.000017  0.000022   \n",
      "BRLUSD  0.000026  0.000131  0.000018  0.000008  0.000004  0.000012  0.000015   \n",
      "CADUSD  0.000021  0.000018  0.000024  0.000007  0.000003  0.000010  0.000014   \n",
      "CHFUSD  0.000014  0.000008  0.000007  0.000039  0.000003  0.000018  0.000013   \n",
      "CNYUSD  0.000006  0.000004  0.000003  0.000003  0.000007  0.000004  0.000005   \n",
      "EURUSD  0.000017  0.000012  0.000010  0.000018  0.000004  0.000026  0.000018   \n",
      "GBPUSD  0.000022  0.000015  0.000014  0.000013  0.000005  0.000018  0.000038   \n",
      "INRUSD  0.000008  0.000012  0.000006  0.000003  0.000003  0.000004  0.000006   \n",
      "JPYUSD  0.000008  0.000006  0.000004  0.000015  0.000002  0.000011  0.000007   \n",
      "ZARUSD  0.000037  0.000047  0.000026  0.000011  0.000007  0.000019  0.000024   \n",
      "\n",
      "          INRUSD    JPYUSD    ZARUSD  \n",
      "AUDUSD  0.000008  0.000008  0.000037  \n",
      "BRLUSD  0.000012  0.000006  0.000047  \n",
      "CADUSD  0.000006  0.000004  0.000026  \n",
      "CHFUSD  0.000003  0.000015  0.000011  \n",
      "CNYUSD  0.000003  0.000002  0.000007  \n",
      "EURUSD  0.000004  0.000011  0.000019  \n",
      "GBPUSD  0.000006  0.000007  0.000024  \n",
      "INRUSD  0.000016  0.000001  0.000015  \n",
      "JPYUSD  0.000001  0.000029  0.000007  \n",
      "ZARUSD  0.000015  0.000007  0.000103  \n"
     ]
    }
   ],
   "source": [
    "# Assuming 'returns' is your DataFrame from earlier\n",
    "\n",
    "# Mean return vector (mu) - use .mean()\n",
    "mu = returns.mean()\n",
    "\n",
    "# Covariance matrix (Sigma) - use .cov()\n",
    "cov_matrix = returns.cov()\n",
    "\n",
    "# Display results\n",
    "print(\"Mean Return Vector (μ):\")\n",
    "print(mu)\n",
    "\n",
    "print(\"\\nCovariance Matrix (Σ):\")\n",
    "print(cov_matrix)\n"
   ]
  },
  {
   "cell_type": "code",
   "execution_count": 23,
   "id": "ddd96c59",
   "metadata": {},
   "outputs": [
    {
     "name": "stdout",
     "output_type": "stream",
     "text": [
      "Minimum Variance Portfolio Weights:\n",
      "AUDUSD   -0.075910\n",
      "BRLUSD    0.001430\n",
      "CADUSD    0.164580\n",
      "CHFUSD    0.017401\n",
      "CNYUSD    0.576245\n",
      "EURUSD    0.033591\n",
      "GBPUSD   -0.002284\n",
      "INRUSD    0.232218\n",
      "JPYUSD    0.108111\n",
      "ZARUSD   -0.055382\n",
      "dtype: float64\n"
     ]
    }
   ],
   "source": [
    "import cvxpy as cp\n",
    "import numpy as np\n",
    "import pandas as pd\n",
    "\n",
    "# Convert data to numpy\n",
    "mu_vector = mu.values\n",
    "sigma_matrix = cov_matrix.values\n",
    "n = len(mu_vector)\n",
    "\n",
    "# Define optimization variable\n",
    "w = cp.Variable(n)\n",
    "\n",
    "# Objective: minimize portfolio variance\n",
    "objective = cp.Minimize(cp.quad_form(w, sigma_matrix))\n",
    "\n",
    "# Constraint: fully invested (weights sum to 1)\n",
    "constraints = [cp.sum(w) == 1]\n",
    "\n",
    "# Solve the problem\n",
    "problem = cp.Problem(objective, constraints)\n",
    "problem.solve()\n",
    "\n",
    "# Get weights\n",
    "weights_mvp = w.value\n",
    "\n",
    "# Display weights as pandas Series\n",
    "weights_series = pd.Series(weights_mvp, index=returns.columns)\n",
    "print(\"Minimum Variance Portfolio Weights:\")\n",
    "print(weights_series)\n",
    "\n"
   ]
  },
  {
   "cell_type": "code",
   "execution_count": 24,
   "id": "2e41b18f",
   "metadata": {},
   "outputs": [
    {
     "name": "stdout",
     "output_type": "stream",
     "text": [
      "Max Sharpe Ratio Portfolio Weights (approx):\n",
      "AUDUSD    0.607434\n",
      "BRLUSD   -2.700512\n",
      "CADUSD    3.051034\n",
      "CHFUSD    5.000000\n",
      "CNYUSD    4.304623\n",
      "EURUSD   -0.224484\n",
      "GBPUSD   -3.198054\n",
      "INRUSD   -4.321398\n",
      "JPYUSD   -0.743331\n",
      "ZARUSD   -0.775312\n",
      "dtype: float64\n",
      "Sharpe Ratio: 0.0342\n"
     ]
    }
   ],
   "source": [
    "import numpy as np\n",
    "import pandas as pd\n",
    "import cvxpy as cp\n",
    "\n",
    "mu_vector = mu.values\n",
    "sigma_matrix = cov_matrix.values\n",
    "n = len(mu_vector)\n",
    "\n",
    "# Risk aversion parameters grid (lambda)\n",
    "lambdas = np.logspace(-3, 3, 100)\n",
    "\n",
    "best_sharpe = -np.inf\n",
    "best_weights = None\n",
    "\n",
    "for lam in lambdas:\n",
    "    w = cp.Variable(n)\n",
    "    ret = mu_vector @ w\n",
    "    risk = cp.quad_form(w, sigma_matrix)\n",
    "    \n",
    "    objective = cp.Maximize(ret - lam * risk)\n",
    "    constraints = [cp.sum(w) == 1,w <= 5]\n",
    "    problem = cp.Problem(objective, constraints)\n",
    "    \n",
    "    problem.solve()\n",
    "    \n",
    "    if w.value is None:\n",
    "        continue\n",
    "    \n",
    "    weights = w.value\n",
    "    port_return = mu_vector @ weights\n",
    "    port_risk = np.sqrt(weights.T @ sigma_matrix @ weights)\n",
    "    \n",
    "    sharpe = port_return / port_risk if port_risk > 0 else 0\n",
    "    \n",
    "    if sharpe > best_sharpe:\n",
    "        best_sharpe = sharpe\n",
    "        best_weights = weights\n",
    "\n",
    "print(\"Max Sharpe Ratio Portfolio Weights (approx):\")\n",
    "print(pd.Series(best_weights, index=returns.columns))\n",
    "print(f\"Sharpe Ratio: {best_sharpe:.4f}\")\n",
    "\n"
   ]
  }
 ],
 "metadata": {
  "kernelspec": {
   "display_name": "Python 3",
   "language": "python",
   "name": "python3"
  },
  "language_info": {
   "codemirror_mode": {
    "name": "ipython",
    "version": 3
   },
   "file_extension": ".py",
   "mimetype": "text/x-python",
   "name": "python",
   "nbconvert_exporter": "python",
   "pygments_lexer": "ipython3",
   "version": "3.13.7"
  }
 },
 "nbformat": 4,
 "nbformat_minor": 5
}
