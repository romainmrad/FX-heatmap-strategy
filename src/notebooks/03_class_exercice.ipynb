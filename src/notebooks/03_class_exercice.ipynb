{
 "cells": [
  {
   "cell_type": "code",
   "id": "initial_id",
   "metadata": {
    "collapsed": true,
    "ExecuteTime": {
     "end_time": "2025-09-09T14:44:50.885125Z",
     "start_time": "2025-09-09T14:44:50.878391Z"
    }
   },
   "source": [
    "import yfinance as yf\n",
    "import numpy as np\n",
    "from sklearn.linear_model import LinearRegression, BayesianRidge\n",
    "from sklearn.ensemble import GradientBoostingRegressor\n",
    "from sklearn.model_selection import train_test_split, cross_val_score, KFold\n",
    "from sklearn.metrics import root_mean_squared_error\n",
    "from sklearn.pipeline import Pipeline\n",
    "from sklearn.preprocessing import StandardScaler\n",
    "from ta import momentum, trend"
   ],
   "outputs": [],
   "execution_count": 61
  },
  {
   "metadata": {
    "ExecuteTime": {
     "end_time": "2025-09-09T14:44:50.996472Z",
     "start_time": "2025-09-09T14:44:50.912541Z"
    }
   },
   "cell_type": "code",
   "source": [
    "df = yf.download('^FTSE', start='2010-01-01', end='2020-12-31')\n",
    "df.columns = ['Close', 'High', 'Low', 'Open', 'Volume']\n",
    "df['RSI'] = momentum.rsi(df['Close'])\n",
    "df['MACD'] = trend.macd(df['Close'])\n",
    "df['Up'] = trend.aroon_up(df['High'], df['Low'])\n",
    "df['Down'] = trend.aroon_down(df['High'], df['Low'])\n",
    "df['Aroon'] = df['Up'] - df['Down']\n",
    "df['Close'] = df['Close'].shift(1)\n",
    "df['Close'] = df['Close'].shift(1)\n",
    "df['LogRet'] = np.log(df['Close'] / df['Close'].shift(1))\n",
    "df = df[::-1].dropna()\n",
    "df.drop(['Close', 'High', 'Low', 'Open', 'Volume', 'Up', 'Down'], axis=1, inplace=True)\n",
    "df"
   ],
   "id": "e9170b6e34250347",
   "outputs": [
    {
     "name": "stderr",
     "output_type": "stream",
     "text": [
      "[*********************100%***********************]  1 of 1 completed\n"
     ]
    },
    {
     "data": {
      "text/plain": [
       "                  RSI       MACD  Aroon    LogRet\n",
       "Date                                             \n",
       "2020-12-30  58.411260  70.587833   68.0  0.000969\n",
       "2020-12-29  62.627047  72.944843   68.0  0.012314\n",
       "2020-12-24  56.352561  70.116917   28.0 -0.017443\n",
       "2020-12-23  55.922214  75.730491   28.0 -0.003349\n",
       "2020-12-21  50.164952  82.435403   28.0 -0.003018\n",
       "...               ...        ...    ...       ...\n",
       "2010-02-12  36.700776 -85.448701  -80.0  0.003944\n",
       "2010-02-11  38.131180 -88.743582  -80.0  0.003822\n",
       "2010-02-10  34.447727 -93.592779  -80.0  0.006185\n",
       "2010-02-09  31.868558 -95.417131  -80.0 -0.015373\n",
       "2010-02-08  29.377824 -94.301035  -80.0 -0.021921\n",
       "\n",
       "[2752 rows x 4 columns]"
      ],
      "text/html": [
       "<div>\n",
       "<style scoped>\n",
       "    .dataframe tbody tr th:only-of-type {\n",
       "        vertical-align: middle;\n",
       "    }\n",
       "\n",
       "    .dataframe tbody tr th {\n",
       "        vertical-align: top;\n",
       "    }\n",
       "\n",
       "    .dataframe thead th {\n",
       "        text-align: right;\n",
       "    }\n",
       "</style>\n",
       "<table border=\"1\" class=\"dataframe\">\n",
       "  <thead>\n",
       "    <tr style=\"text-align: right;\">\n",
       "      <th></th>\n",
       "      <th>RSI</th>\n",
       "      <th>MACD</th>\n",
       "      <th>Aroon</th>\n",
       "      <th>LogRet</th>\n",
       "    </tr>\n",
       "    <tr>\n",
       "      <th>Date</th>\n",
       "      <th></th>\n",
       "      <th></th>\n",
       "      <th></th>\n",
       "      <th></th>\n",
       "    </tr>\n",
       "  </thead>\n",
       "  <tbody>\n",
       "    <tr>\n",
       "      <th>2020-12-30</th>\n",
       "      <td>58.411260</td>\n",
       "      <td>70.587833</td>\n",
       "      <td>68.0</td>\n",
       "      <td>0.000969</td>\n",
       "    </tr>\n",
       "    <tr>\n",
       "      <th>2020-12-29</th>\n",
       "      <td>62.627047</td>\n",
       "      <td>72.944843</td>\n",
       "      <td>68.0</td>\n",
       "      <td>0.012314</td>\n",
       "    </tr>\n",
       "    <tr>\n",
       "      <th>2020-12-24</th>\n",
       "      <td>56.352561</td>\n",
       "      <td>70.116917</td>\n",
       "      <td>28.0</td>\n",
       "      <td>-0.017443</td>\n",
       "    </tr>\n",
       "    <tr>\n",
       "      <th>2020-12-23</th>\n",
       "      <td>55.922214</td>\n",
       "      <td>75.730491</td>\n",
       "      <td>28.0</td>\n",
       "      <td>-0.003349</td>\n",
       "    </tr>\n",
       "    <tr>\n",
       "      <th>2020-12-21</th>\n",
       "      <td>50.164952</td>\n",
       "      <td>82.435403</td>\n",
       "      <td>28.0</td>\n",
       "      <td>-0.003018</td>\n",
       "    </tr>\n",
       "    <tr>\n",
       "      <th>...</th>\n",
       "      <td>...</td>\n",
       "      <td>...</td>\n",
       "      <td>...</td>\n",
       "      <td>...</td>\n",
       "    </tr>\n",
       "    <tr>\n",
       "      <th>2010-02-12</th>\n",
       "      <td>36.700776</td>\n",
       "      <td>-85.448701</td>\n",
       "      <td>-80.0</td>\n",
       "      <td>0.003944</td>\n",
       "    </tr>\n",
       "    <tr>\n",
       "      <th>2010-02-11</th>\n",
       "      <td>38.131180</td>\n",
       "      <td>-88.743582</td>\n",
       "      <td>-80.0</td>\n",
       "      <td>0.003822</td>\n",
       "    </tr>\n",
       "    <tr>\n",
       "      <th>2010-02-10</th>\n",
       "      <td>34.447727</td>\n",
       "      <td>-93.592779</td>\n",
       "      <td>-80.0</td>\n",
       "      <td>0.006185</td>\n",
       "    </tr>\n",
       "    <tr>\n",
       "      <th>2010-02-09</th>\n",
       "      <td>31.868558</td>\n",
       "      <td>-95.417131</td>\n",
       "      <td>-80.0</td>\n",
       "      <td>-0.015373</td>\n",
       "    </tr>\n",
       "    <tr>\n",
       "      <th>2010-02-08</th>\n",
       "      <td>29.377824</td>\n",
       "      <td>-94.301035</td>\n",
       "      <td>-80.0</td>\n",
       "      <td>-0.021921</td>\n",
       "    </tr>\n",
       "  </tbody>\n",
       "</table>\n",
       "<p>2752 rows × 4 columns</p>\n",
       "</div>"
      ]
     },
     "execution_count": 62,
     "metadata": {},
     "output_type": "execute_result"
    }
   ],
   "execution_count": 62
  },
  {
   "metadata": {
    "ExecuteTime": {
     "end_time": "2025-09-09T14:44:51.065208Z",
     "start_time": "2025-09-09T14:44:51.055444Z"
    }
   },
   "cell_type": "code",
   "source": [
    "# Features and target\n",
    "X = df[['Aroon', 'RSI', 'MACD']]\n",
    "y = df['LogRet']\n",
    "\n",
    "X_train, X_test, y_train, y_test = train_test_split(X, y, test_size=0.2, shuffle=False)\n",
    "\n",
    "# Scale features\n",
    "scaler = StandardScaler()\n",
    "X_train_scaled = scaler.fit_transform(X_train)\n",
    "X_test_scaled = scaler.transform(X_test)"
   ],
   "id": "4f06cba112f01b24",
   "outputs": [],
   "execution_count": 63
  },
  {
   "metadata": {
    "ExecuteTime": {
     "end_time": "2025-09-09T14:44:51.316600Z",
     "start_time": "2025-09-09T14:44:51.296941Z"
    }
   },
   "cell_type": "code",
   "source": [
    "# Linear Regression\n",
    "lr = LinearRegression()\n",
    "lr.fit(X_train_scaled, y_train)\n",
    "y_pred = lr.predict(X_test_scaled)\n",
    "\n",
    "print(\"Linear Regression RMSE:\", root_mean_squared_error(y_test, y_pred))"
   ],
   "id": "a5f39a0770216b8c",
   "outputs": [
    {
     "name": "stdout",
     "output_type": "stream",
     "text": [
      "Linear Regression RMSE: 0.011340349293498194\n"
     ]
    }
   ],
   "execution_count": 64
  },
  {
   "metadata": {
    "ExecuteTime": {
     "end_time": "2025-09-09T14:44:51.743594Z",
     "start_time": "2025-09-09T14:44:51.417098Z"
    }
   },
   "cell_type": "code",
   "source": [
    "# Gradient Boosting Regressor\n",
    "gbr = GradientBoostingRegressor(random_state=42)\n",
    "gbr.fit(X_train_scaled, y_train)\n",
    "y_pred = gbr.predict(X_test_scaled)\n",
    "\n",
    "print(\"Gradient Boosting Regressor RMSE:\", root_mean_squared_error(y_test, y_pred))"
   ],
   "id": "a77d5f8d2154af59",
   "outputs": [
    {
     "name": "stdout",
     "output_type": "stream",
     "text": [
      "Gradient Boosting Regressor RMSE: 0.011139275292018741\n"
     ]
    }
   ],
   "execution_count": 65
  },
  {
   "metadata": {
    "ExecuteTime": {
     "end_time": "2025-09-09T14:44:51.868469Z",
     "start_time": "2025-09-09T14:44:51.861008Z"
    }
   },
   "cell_type": "code",
   "source": [
    "# Bayesian Ridge Regression\n",
    "br = BayesianRidge()\n",
    "br.fit(X_train_scaled, y_train)\n",
    "y_pred = br.predict(X_test_scaled)\n",
    "\n",
    "print(\"Bayesian Ridge Regression RMSE:\", root_mean_squared_error(y_test, y_pred))"
   ],
   "id": "b261dc50ecc57f3a",
   "outputs": [
    {
     "name": "stdout",
     "output_type": "stream",
     "text": [
      "Bayesian Ridge Regression RMSE: 0.011344763127851903\n"
     ]
    }
   ],
   "execution_count": 66
  },
  {
   "metadata": {
    "ExecuteTime": {
     "end_time": "2025-09-09T14:44:53.341751Z",
     "start_time": "2025-09-09T14:44:51.976597Z"
    }
   },
   "cell_type": "code",
   "source": [
    "# Define cross-validation strategy\n",
    "cv = KFold(n_splits=5, shuffle=False)\n",
    "\n",
    "# Helper to compute RMSE\n",
    "def rmse_cv(model, X, y):\n",
    "    neg_mse = cross_val_score(model, X, y, scoring=\"neg_mean_squared_error\", cv=cv)\n",
    "    rmse = np.sqrt(-neg_mse)\n",
    "    return rmse.mean()\n",
    "\n",
    "# Models wrapped with scaling where needed\n",
    "models = {\n",
    "    \"Linear Regression\": Pipeline([(\"scaler\", StandardScaler()), (\"reg\", LinearRegression())]),\n",
    "    \"Gradient Boosting\": Pipeline([(\"scaler\", StandardScaler()), (\"reg\", GradientBoostingRegressor(random_state=42))]),\n",
    "    \"Bayesian Ridge\": Pipeline([(\"scaler\", StandardScaler()), (\"reg\", BayesianRidge())])\n",
    "}\n",
    "\n",
    "# Evaluate\n",
    "for name, model in models.items():\n",
    "    score = rmse_cv(model, X, y)\n",
    "    print(f\"{name} RMSE: {score:.4f}\")"
   ],
   "id": "9397179d55391817",
   "outputs": [
    {
     "name": "stdout",
     "output_type": "stream",
     "text": [
      "Linear Regression RMSE: 0.0098\n",
      "Gradient Boosting RMSE: 0.0097\n",
      "Bayesian Ridge RMSE: 0.0097\n"
     ]
    }
   ],
   "execution_count": 67
  }
 ],
 "metadata": {
  "kernelspec": {
   "display_name": "Python 3",
   "language": "python",
   "name": "python3"
  },
  "language_info": {
   "codemirror_mode": {
    "name": "ipython",
    "version": 2
   },
   "file_extension": ".py",
   "mimetype": "text/x-python",
   "name": "python",
   "nbconvert_exporter": "python",
   "pygments_lexer": "ipython2",
   "version": "2.7.6"
  }
 },
 "nbformat": 4,
 "nbformat_minor": 5
}
